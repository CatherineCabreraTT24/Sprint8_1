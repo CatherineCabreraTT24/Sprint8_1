{
 "cells": [
  {
   "cell_type": "markdown",
   "id": "a254b274",
   "metadata": {},
   "source": [
    "\n",
    "# 📘 Introducción a SQL\n",
    "\n",
    "**SQL (Structured Query Language)** es un lenguaje diseñado para administrar y manipular bases de datos relacionales.\n",
    "\n",
    "Con SQL podemos:\n",
    "- Crear y modificar bases de datos y tablas.\n",
    "- Insertar, actualizar y eliminar registros.\n",
    "- Consultar información con gran flexibilidad.\n",
    "\n",
    "### 🔹 Comparación entre algunos sistemas de bases de datos\n",
    "\n",
    "| Sistema      | Características principales |\n",
    "|--------------|-----------------------------|\n",
    "| **SQLite**  | Ligero, no requiere servidor, ideal para desarrollo local o apps pequeñas. |\n",
    "| **MySQL**   | Muy usado en aplicaciones web, rápido, soporta grandes volúmenes de datos. |\n",
    "| **PostgreSQL** | Robusto, orientado a estándares, soporta operaciones avanzadas, ideal para proyectos complejos. |\n",
    "| **Otros (Oracle, SQL Server)** | Usados en entornos empresariales, con alta seguridad y escalabilidad. |\n"
   ]
  },
  {
   "cell_type": "markdown",
   "id": "42890457",
   "metadata": {},
   "source": [
    "\n",
    "# 🔗 Conexión a la Base de Datos\n",
    "\n",
    "En este notebook trabajaremos con **SQLite**, ya que no requiere instalación de un servidor y es muy fácil de usar.\n",
    "\n",
    "A continuación, nos conectamos a un archivo `.db` que contiene la base de datos de ejemplo.\n"
   ]
  },
  {
   "cell_type": "code",
   "execution_count": 2,
   "id": "0ed033fc",
   "metadata": {},
   "outputs": [
    {
     "name": "stdout",
     "output_type": "stream",
     "text": [
      "Versión de SQLite: 3.50.2\n"
     ]
    }
   ],
   "source": [
    "\n",
    "import sqlite3\n",
    "\n",
    "# Conexión a la base de datos (si no existe, se crea un archivo nuevo)\n",
    "conn = sqlite3.connect(\"Chinook_Sqlite.sqlite\")\n",
    "cursor = conn.cursor()\n",
    "\n",
    "# Verificamos que la conexión está funcionando\n",
    "cursor.execute(\"SELECT sqlite_version();\")\n",
    "print(\"Versión de SQLite:\", cursor.fetchone()[0])\n"
   ]
  },
  {
   "cell_type": "markdown",
   "id": "d78f56d5",
   "metadata": {},
   "source": [
    "\n",
    "# 🗂️ Explorando la Base de Datos\n",
    "\n",
    "Antes de empezar a hacer consultas, es importante conocer qué tablas existen en la base de datos.\n",
    "\n",
    "También podemos visualizar el **diagrama entidad-relación (ERD)** para entender cómo se relacionan las tablas.\n",
    "\n",
    "👉 Aquí puedes insertar el diagrama ERD de tu base de datos (ejemplo en Markdown):\n",
    "\n",
    "```markdown\n",
    "![Diagrama ERD](Sprint8_1\\SQL\\Diagrama_ERb)\n",
    "```\n",
    "\n"
   ]
  },
  {
   "cell_type": "code",
   "execution_count": 3,
   "id": "50c37577",
   "metadata": {},
   "outputs": [
    {
     "name": "stdout",
     "output_type": "stream",
     "text": [
      "Tablas en la base de datos:\n",
      "- Album\n",
      "- Artist\n",
      "- Customer\n",
      "- Employee\n",
      "- Genre\n",
      "- Invoice\n",
      "- InvoiceLine\n",
      "- MediaType\n",
      "- Playlist\n",
      "- PlaylistTrack\n",
      "- Track\n"
     ]
    }
   ],
   "source": [
    "\n",
    "# Listar todas las tablas de la base de datos\n",
    "cursor.execute(\"SELECT name FROM sqlite_master WHERE type='table';\")\n",
    "print(\"Tablas en la base de datos:\")\n",
    "for row in cursor.fetchall():\n",
    "    print(\"-\", row[0])\n"
   ]
  },
  {
   "cell_type": "markdown",
   "id": "cff444df",
   "metadata": {},
   "source": [
    "Asumamos que tenemos una tabla que se llama cliente con las siguientes columnas\n",
    "\n",
    "\n",
    "| ID | nombre          | edad |pais  |\n",
    "| -- | -------------- | --- | --------- |\n",
    "| 1  | Juan Pérez     | 28  | Colombia  |\n",
    "| 2  | Ana Gómez      | 22  | México    |\n",
    "| 3  | José Ramírez   | 35  | Colombia  |\n",
    "| 4  | María López    | 30  | Argentina |\n",
    "| 5  | John Smith     | 40  | USA       |\n",
    "| 6  | Juliana Torres | 27  | Colombia  |\n",
    "| 7  | Pedro Sánchez  | 24  | Chile     |\n"
   ]
  },
  {
   "cell_type": "markdown",
   "id": "729cf048",
   "metadata": {},
   "source": [
    "\n",
    "# 🔍 Sentencia SELECT\n",
    "\n",
    "La sentencia `SELECT` se utiliza para consultar datos de una o varias tablas.\n",
    "\n",
    "### Ejemplos:\n",
    "- Seleccionar todas las columnas:\n",
    "```sql\n",
    "SELECT * FROM clientes;\n",
    "```\n",
    "\n",
    "- Seleccionar columnas específicas:\n",
    "```sql\n",
    "SELECT nombre, edad FROM clientes;\n",
    "```\n",
    "\n",
    "- Contar registros:\n",
    "```sql\n",
    "SELECT COUNT(*) FROM clientes;\n",
    "```\n",
    "\n",
    "- Usar alias para renombrar columnas:\n",
    "```sql\n",
    "SELECT nombre AS NombreCliente, edad AS EdadCliente FROM clientes;\n",
    "```\n"
   ]
  },
  {
   "cell_type": "code",
   "execution_count": 4,
   "id": "75db26ee",
   "metadata": {},
   "outputs": [
    {
     "name": "stdout",
     "output_type": "stream",
     "text": [
      "(1, 'Luís', 'Gonçalves', 'Embraer - Empresa Brasileira de Aeronáutica S.A.', 'Av. Brigadeiro Faria Lima, 2170', 'São José dos Campos', 'SP', 'Brazil', '12227-000', '+55 (12) 3923-5555', '+55 (12) 3923-5566', 'luisg@embraer.com.br', 3)\n",
      "(2, 'Leonie', 'Köhler', None, 'Theodor-Heuss-Straße 34', 'Stuttgart', None, 'Germany', '70174', '+49 0711 2842222', None, 'leonekohler@surfeu.de', 5)\n",
      "(3, 'François', 'Tremblay', None, '1498 rue Bélanger', 'Montréal', 'QC', 'Canada', 'H2G 1A7', '+1 (514) 721-4711', None, 'ftremblay@gmail.com', 3)\n",
      "(4, 'Bjørn', 'Hansen', None, 'Ullevålsveien 14', 'Oslo', None, 'Norway', '0171', '+47 22 44 22 22', None, 'bjorn.hansen@yahoo.no', 4)\n",
      "(5, 'František', 'Wichterlová', 'JetBrains s.r.o.', 'Klanova 9/506', 'Prague', None, 'Czech Republic', '14700', '+420 2 4172 5555', '+420 2 4172 5555', 'frantisekw@jetbrains.com', 4)\n"
     ]
    }
   ],
   "source": [
    "\n",
    "# Ejemplo: seleccionar datos de una tabla (reemplazar 'clientes' con una tabla existente)\n",
    "try:\n",
    "    cursor.execute(\"SELECT * FROM Customer LIMIT 5;\")\n",
    "    for row in cursor.fetchall():\n",
    "        print(row)\n",
    "except Exception as e:\n",
    "    print(\"Ejemplo: la tabla 'Customer' no existe en esta BD.\")\n"
   ]
  },
  {
   "cell_type": "markdown",
   "id": "6ecbaab9",
   "metadata": {},
   "source": [
    "\n",
    "# 🎯 Sentencia WHERE\n",
    "\n",
    "La cláusula `WHERE` permite filtrar registros según condiciones.\n",
    "\n",
    "### Ejemplos:\n",
    "- Seleccionar clientes mayores de 30 años:\n",
    "```sql\n",
    "SELECT * FROM clientes WHERE edad > 30;\n",
    "```\n",
    "\n",
    "- Seleccionar clientes con edad entre 20 y 40 años:\n",
    "```sql\n",
    "SELECT * FROM clientes WHERE edad BETWEEN 20 AND 40;\n",
    "```\n",
    "\n",
    "- Seleccionar clientes cuyo país esté en una lista:\n",
    "```sql\n",
    "SELECT * FROM clientes WHERE pais IN ('Colombia', 'México', 'Argentina');\n",
    "```\n",
    "\n",
    "- Buscar coincidencias parciales con LIKE:\n",
    "```sql\n",
    "SELECT * FROM clientes WHERE nombre LIKE 'A%';\n",
    "```\n"
   ]
  },
  {
   "cell_type": "code",
   "execution_count": 11,
   "id": "04adc42a",
   "metadata": {},
   "outputs": [
    {
     "name": "stdout",
     "output_type": "stream",
     "text": [
      "Ejemplo: la tabla 'Customer' no existe en esta BD.\n"
     ]
    }
   ],
   "source": [
    "\n",
    "# Ejemplo con WHERE (si la tabla existe)\n",
    "try:\n",
    "    cursor.execute(\"SELECT * FROM Customer WHERE edad > 30 LIMIT 5;\")\n",
    "    for row in cursor.fetchall():\n",
    "        print(row)\n",
    "except Exception as e:\n",
    "    print(\"Ejemplo: la tabla 'Customer' no existe en esta BD.\")\n"
   ]
  },
  {
   "cell_type": "markdown",
   "id": "a762d45e",
   "metadata": {},
   "source": [
    "\n",
    "# 📝 Ejercicios Propuestos\n",
    "\n",
    "1. Selecciona todos los registros de la tabla `Employee`.  \n",
    "2. Muestra solo los nombres y edades de los empleados.  \n",
    "3. Cuenta cuántos empleados hay en la tabla.  \n",
    "4. Selecciona los empleados cuya edad sea mayor a 25.  \n",
    "5. Selecciona los empleados cuyo país sea \"Colombia\".  \n",
    "6. Selecciona los empleados cuyo nombre empiece con la letra **J**.  \n",
    "\n",
    "👉 Intenta resolverlos escribiendo las consultas en celdas nuevas debajo.\n"
   ]
  },
  {
   "cell_type": "code",
   "execution_count": null,
   "id": "48fef972",
   "metadata": {},
   "outputs": [],
   "source": []
  }
 ],
 "metadata": {
  "kernelspec": {
   "display_name": "mi_entorno_2",
   "language": "python",
   "name": "python3"
  },
  "language_info": {
   "codemirror_mode": {
    "name": "ipython",
    "version": 3
   },
   "file_extension": ".py",
   "mimetype": "text/x-python",
   "name": "python",
   "nbconvert_exporter": "python",
   "pygments_lexer": "ipython3",
   "version": "3.13.5"
  }
 },
 "nbformat": 4,
 "nbformat_minor": 5
}
